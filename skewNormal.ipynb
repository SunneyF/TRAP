{
 "cells": [
  {
   "cell_type": "markdown",
   "metadata": {},
   "source": [
    "# Skew Normal Distribution\n",
    "**Sunney Fotedar**"
   ]
  },
  {
   "cell_type": "markdown",
   "metadata": {},
   "source": [
    "Background\n",
    "- Skew nowmal distribution is a continuous probability distribution that generalized the normal distribution. See [Azzalini, A., & Capitanio, A. (1999)](http://www.jstor.org/stable/2680724) for more details and generalizations to multivariate skew normal distributions.\n",
    "- In our work we have considered the variable $p_{jk}$ for each $j\\in \\mathcal{J}$ and $k \\in \\mathcal{N}_{j}$ (note that each $p_{jk}$ value is an independent random variable) to be skew normally distributed and used different skewness/shape parameter ($\\alpha$) to generate various instances."
   ]
  },
  {
   "cell_type": "markdown",
   "metadata": {},
   "source": [
    "Details\n",
    " - We know that probability density function (pdf) of the standard normal distribution is $\\phi(x) = \\frac{1}{\\sqrt{2\\pi}}e^{\\frac{-x^{2}}{2}}$ and the cumulative distribution function given by $\\Phi(x) = \\int_{-\\infty}^{x} \\phi(t)dt$. The pdf of the skew normal distribution with skewness/shape parameter $\\alpha$ is given by $f(x) = 2\\phi(x)\\Phi(\\alpha x)$\n",
    " - Above mentioned formulae is in the standard form and to add location $\\mu$ and scale $\\sigma$ parameters we use $x \\rightarrow \\frac{x-\\mu}{\\sigma}$\n",
    " - For processing times as mentioned in Section 6.1 (paragraph 2 line 5) of the manuscript we select the parameter $\\mu$ based on the values of processing time of the same job on similar types of machines. In Section 6.2 line 4 we have provided the minimum, maximum, and median values of the known processing time $p_{jk}$ for $j \\in \\mathcal{J}$ and $k\\in \\mathcal{K}_{j}\\setminus \\mathcal{N}_{j}$.\n",
    " - It is also mentioned in Section 6.1 paragraph 2 line 7 that $\\sigma=0.1\\mu$\n",
    " - The above mentioned values of the parameters along with $\\alpha=1$(skew+), $\\alpha=0$(skew0), $\\alpha=-1$(skew-) are tried while generation the results."
   ]
  },
  {
   "cell_type": "markdown",
   "metadata": {},
   "source": [
    "Summary"
   ]
  },
  {
   "cell_type": "markdown",
   "metadata": {},
   "source": [
    "### Cumulative distribution function plot"
   ]
  },
  {
   "cell_type": "markdown",
   "metadata": {},
   "source": [
    "**Now we evaluate the cumulative distribution function for any given $j\\in \\mathcal{J}, k \\in \\mathcal{N}_{j}$ with $p_{jk}=0$ i.e. $F(p_{jk}=0;\\alpha, \\mu, \\sigma)$ for $\\alpha\\in \\{1,-1,0\\}$ and $\\mu \\in \\{0.1, 89.7, 5.63\\}$ and $\\sigma=0.1\\mu$.**"
   ]
  },
  {
   "cell_type": "code",
   "execution_count": 3,
   "metadata": {},
   "outputs": [
    {
     "data": {
      "image/png": "[encoded data removed]",
      "text/plain": [
       "<Figure size 432x288 with 3 Axes>"
      ]
     },
     "metadata": {
      "needs_background": "light"
     },
     "output_type": "display_data"
    }
   ],
   "source": [
    "import numpy as np\n",
    "from scipy import stats\n",
    "import matplotlib.pyplot as plt\n",
    "import pandas as pd\n",
    "mu = [0.1,89.7,5.63]; alpha =[0,1,-1]; \n",
    "\n",
    "\"\"\"\n",
    "Create three subplots (one for each value of \\mu) \n",
    "\"\"\"\n",
    "\n",
    "f, ax = plt.subplots(1, 3, sharey=True)\n",
    "start=-1.5\n",
    "end=1.5\n",
    "for m in mu:\n",
    "    X = np.linspace(start,end*m,500) # evaluate values from [-2,3*mu]\n",
    "    G={}\n",
    "    G['$p_{jk}$'] = X\n",
    "    for a in alpha:  \n",
    "     # evaluate the cumulative distribution for each values [-2,5*mu]   \n",
    "     G[a] = [stats.skewnorm.cdf(x, a, loc=m, scale=.1*m) for x in X ] \n",
    "    \"\"\"\n",
    "     data frame for cumulative dist.at different values of processing times for each \n",
    "     value of skewness \n",
    "    \"\"\"   \n",
    "    cumDist_forAlpha = pd.DataFrame(data=G, dtype=np.int8) \n",
    "    ax[mu.index(m)].plot(X,cumDist_forAlpha[alpha[0]], 'bo', label='$ \\\\alpha\\!=\\!0 $'); \n",
    "    ax[mu.index(m)].plot(X,cumDist_forAlpha[alpha[1]], 'r+', label=\"$ \\\\alpha\\!=\\!1$\");  \n",
    "    ax[mu.index(m)].plot(X,cumDist_forAlpha[alpha[2]], 'c.', label='$ \\\\alpha\\!=\\!-1 $');\n",
    "    ax[mu.index(m)].set_title('for $\\mu$={}'.format(m));\n",
    "    ax[mu.index(m)].legend(loc=\"upper left\",  shadow=True, handletextpad=0.05, fontsize=9)\n",
    "    ax[mu.index(m)].set_xlim([start, end*m]);\n",
    "    ax[mu.index(m)].set_xticks([round(l,1) for l in np.linspace(start,end*m,4)]);\n",
    "    ax[mu.index(m)].set_xlabel('$p_{jk}$', fontsize=15);\n",
    "    ax[mu.index(m)].set_ylabel('$F(p_{jk};\\\\alpha,\\mu,\\sigma)$', fontsize=15)\n",
    "\n",
    "   \n",
    "f.tight_layout()"
   ]
  },
  {
   "cell_type": "markdown",
   "metadata": {},
   "source": [
    "### Values of $F(0;\\alpha,\\mu,\\sigma)$ for different values of $\\alpha$ and $\\mu$ (rounded to 10 decimal)"
   ]
  },
  {
   "cell_type": "code",
   "execution_count": 11,
   "metadata": {},
   "outputs": [
    {
     "name": "stdout",
     "output_type": "stream",
     "text": [
      "F(0;0,0.1,0.01)=0.0\n",
      "F(0;0,89.7,8.97)=0.0\n",
      "F(0;0,5.63,0.56)=0.0\n",
      "F(0;1,0.1,0.01)=0.0\n",
      "F(0;1,89.7,8.97)=0.0\n",
      "F(0;1,5.63,0.56)=0.0\n",
      "F(0;-1,0.1,0.01)=0.0\n",
      "F(0;-1,89.7,8.97)=0.0\n",
      "F(0;-1,5.63,0.56)=0.0\n"
     ]
    }
   ],
   "source": [
    "F={}\n",
    "for skew in [0,1,-1]:\n",
    "    for mu in [0.1,89.7,5.63]:\n",
    "        F[skew,mu]= round(stats.skewnorm.cdf(0, skew, loc=mu, scale=.1*mu),10)\n",
    "        s='F(0;{},{},{})={}'.format(skew,mu,round(0.1*mu,2),F[skew,mu])\n",
    "        print(s)"
   ]
  },
  {
   "cell_type": "markdown",
   "metadata": {},
   "source": [
    "**Table 1. Values of cumulative distribution at zero**\n",
    "\n",
    "\n",
    "| $\\alpha$    | $\\mu$       |   F(0;$\\cdots$)               |\n",
    "| -----------: | -----------: | ----------------------------------:             |\n",
    "| 0           | 0.1         |      0                                         |\n",
    "| 1           | 0.1         |      0                                         |\n",
    "| -1          | 0.1         |      0                                         |\n",
    "| 0           | 89.7        |      0                                         |\n",
    "| 1           | 89.7        |      0                                         |\n",
    "| -1          | 89.7        |      0                                         |\n",
    "| 0           | 5.63        |      0                                         |\n",
    "| 1           | 5.63        |      0                                         |\n",
    "| -1          | 5.63        |      0                                         |"
   ]
  }
 ],
 "metadata": {
  "kernelspec": {
   "display_name": "Python 3",
   "language": "python",
   "name": "python3"
  },
  "language_info": {
   "codemirror_mode": {
    "name": "ipython",
    "version": 3
   },
   "file_extension": ".py",
   "mimetype": "text/x-python",
   "name": "python",
   "nbconvert_exporter": "python",
   "pygments_lexer": "ipython3",
   "version": "3.8.5"
  }
 },
 "nbformat": 4,
 "nbformat_minor": 4
}
